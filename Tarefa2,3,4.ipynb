{
  "nbformat": 4,
  "nbformat_minor": 0,
  "metadata": {
    "colab": {
      "provenance": [],
      "authorship_tag": "ABX9TyPkGTYVm1YkCm2VKC4R7hLz",
      "include_colab_link": true
    },
    "kernelspec": {
      "name": "python3",
      "display_name": "Python 3"
    },
    "language_info": {
      "name": "python"
    }
  },
  "cells": [
    {
      "cell_type": "markdown",
      "metadata": {
        "id": "view-in-github",
        "colab_type": "text"
      },
      "source": [
        "<a href=\"https://colab.research.google.com/github/ViniciusHenriqueOliveira/DesafioPratico/blob/main/Tarefa2%2C3%2C4.ipynb\" target=\"_parent\"><img src=\"https://colab.research.google.com/assets/colab-badge.svg\" alt=\"Open In Colab\"/></a>"
      ]
    },
    {
      "cell_type": "markdown",
      "source": [
        "**Pré-processamento dos Dados**\n",
        "\n",
        "○ Normalizar ou padronizar variáveis numéricas, se necessário.\n",
        "\n",
        "○ Realizar codificação para variáveis categóricas, transformando-as em valores numéricos.\n",
        "\n",
        "○ Dividir os dados em conjuntos de treino e teste."
      ],
      "metadata": {
        "id": "jKnOMgxTaLo3"
      }
    },
    {
      "cell_type": "code",
      "execution_count": 4,
      "metadata": {
        "id": "MZ07W8MqaA4k"
      },
      "outputs": [],
      "source": [
        "import pandas as pd\n",
        "import numpy as np\n",
        "import matplotlib.pyplot as plt\n",
        "import seaborn as sns"
      ]
    },
    {
      "cell_type": "code",
      "source": [
        "arquivo = '/content/Dataset.csv'"
      ],
      "metadata": {
        "id": "KaOe4M5jaqpG"
      },
      "execution_count": 5,
      "outputs": []
    },
    {
      "cell_type": "code",
      "source": [
        "df = pd.read_csv(arquivo)"
      ],
      "metadata": {
        "id": "VRknscIEaz_h"
      },
      "execution_count": 6,
      "outputs": []
    },
    {
      "cell_type": "code",
      "source": [
        "df.isnull().sum()"
      ],
      "metadata": {
        "colab": {
          "base_uri": "https://localhost:8080/",
          "height": 272
        },
        "id": "XQNQuHWBa-Vk",
        "outputId": "0de43f56-1df4-4675-a205-705c6815672d"
      },
      "execution_count": 7,
      "outputs": [
        {
          "output_type": "execute_result",
          "data": {
            "text/plain": [
              "Idade                  10\n",
              "Renda Anual (em $)     11\n",
              "Gênero                  7\n",
              "Tempo no Site (min)     0\n",
              "Anúncio Clicado        10\n",
              "Compra (0 ou 1)         0\n",
              "dtype: int64"
            ],
            "text/html": [
              "<div>\n",
              "<style scoped>\n",
              "    .dataframe tbody tr th:only-of-type {\n",
              "        vertical-align: middle;\n",
              "    }\n",
              "\n",
              "    .dataframe tbody tr th {\n",
              "        vertical-align: top;\n",
              "    }\n",
              "\n",
              "    .dataframe thead th {\n",
              "        text-align: right;\n",
              "    }\n",
              "</style>\n",
              "<table border=\"1\" class=\"dataframe\">\n",
              "  <thead>\n",
              "    <tr style=\"text-align: right;\">\n",
              "      <th></th>\n",
              "      <th>0</th>\n",
              "    </tr>\n",
              "  </thead>\n",
              "  <tbody>\n",
              "    <tr>\n",
              "      <th>Idade</th>\n",
              "      <td>10</td>\n",
              "    </tr>\n",
              "    <tr>\n",
              "      <th>Renda Anual (em $)</th>\n",
              "      <td>11</td>\n",
              "    </tr>\n",
              "    <tr>\n",
              "      <th>Gênero</th>\n",
              "      <td>7</td>\n",
              "    </tr>\n",
              "    <tr>\n",
              "      <th>Tempo no Site (min)</th>\n",
              "      <td>0</td>\n",
              "    </tr>\n",
              "    <tr>\n",
              "      <th>Anúncio Clicado</th>\n",
              "      <td>10</td>\n",
              "    </tr>\n",
              "    <tr>\n",
              "      <th>Compra (0 ou 1)</th>\n",
              "      <td>0</td>\n",
              "    </tr>\n",
              "  </tbody>\n",
              "</table>\n",
              "</div><br><label><b>dtype:</b> int64</label>"
            ]
          },
          "metadata": {},
          "execution_count": 7
        }
      ]
    },
    {
      "cell_type": "code",
      "source": [
        "colunas = ['Idade', 'Renda Anual (em $)', 'Tempo no Site (min)']\n",
        "\n",
        "df[colunas] = (df[colunas] - df[colunas].mean()) / df[colunas].std()\n",
        "\n",
        "df[colunas].head()"
      ],
      "metadata": {
        "colab": {
          "base_uri": "https://localhost:8080/"
        },
        "id": "aq36WXM5bKJh",
        "outputId": "140ab38b-6409-400d-d032-30c659798e35"
      },
      "execution_count": 8,
      "outputs": [
        {
          "output_type": "stream",
          "name": "stdout",
          "text": [
            "Variáveis numéricas padronizadas:\n",
            "      Idade  Renda Anual (em $)  Tempo no Site (min)\n",
            "0 -0.750046           -1.103151            -1.502752\n",
            "1  1.537035           -0.322269             0.587308\n",
            "2  0.906116            0.458613            -1.453602\n",
            "3 -1.380965            1.629936            -0.140362\n",
            "4  1.615900           -0.322269             1.409432\n"
          ]
        }
      ]
    },
    {
      "cell_type": "code",
      "source": [
        "from sklearn.preprocessing import LabelEncoder\n",
        "\n",
        "df['Gênero'] = df['Gênero'].map({'Masculino': 1, 'Feminino': 0})\n",
        "df['Anúncio Clicado'] = df['Anúncio Clicado'].map({'Sim': 1, 'Não': 0})"
      ],
      "metadata": {
        "id": "tfNMHvX5bguJ"
      },
      "execution_count": 9,
      "outputs": []
    },
    {
      "cell_type": "code",
      "source": [
        "df.isnull().sum()"
      ],
      "metadata": {
        "colab": {
          "base_uri": "https://localhost:8080/",
          "height": 272
        },
        "id": "zTwEP5xMbmgf",
        "outputId": "255ebc18-562c-45eb-89c2-2cee242fba55"
      },
      "execution_count": 10,
      "outputs": [
        {
          "output_type": "execute_result",
          "data": {
            "text/plain": [
              "Idade                  10\n",
              "Renda Anual (em $)     11\n",
              "Gênero                  7\n",
              "Tempo no Site (min)     0\n",
              "Anúncio Clicado        10\n",
              "Compra (0 ou 1)         0\n",
              "dtype: int64"
            ],
            "text/html": [
              "<div>\n",
              "<style scoped>\n",
              "    .dataframe tbody tr th:only-of-type {\n",
              "        vertical-align: middle;\n",
              "    }\n",
              "\n",
              "    .dataframe tbody tr th {\n",
              "        vertical-align: top;\n",
              "    }\n",
              "\n",
              "    .dataframe thead th {\n",
              "        text-align: right;\n",
              "    }\n",
              "</style>\n",
              "<table border=\"1\" class=\"dataframe\">\n",
              "  <thead>\n",
              "    <tr style=\"text-align: right;\">\n",
              "      <th></th>\n",
              "      <th>0</th>\n",
              "    </tr>\n",
              "  </thead>\n",
              "  <tbody>\n",
              "    <tr>\n",
              "      <th>Idade</th>\n",
              "      <td>10</td>\n",
              "    </tr>\n",
              "    <tr>\n",
              "      <th>Renda Anual (em $)</th>\n",
              "      <td>11</td>\n",
              "    </tr>\n",
              "    <tr>\n",
              "      <th>Gênero</th>\n",
              "      <td>7</td>\n",
              "    </tr>\n",
              "    <tr>\n",
              "      <th>Tempo no Site (min)</th>\n",
              "      <td>0</td>\n",
              "    </tr>\n",
              "    <tr>\n",
              "      <th>Anúncio Clicado</th>\n",
              "      <td>10</td>\n",
              "    </tr>\n",
              "    <tr>\n",
              "      <th>Compra (0 ou 1)</th>\n",
              "      <td>0</td>\n",
              "    </tr>\n",
              "  </tbody>\n",
              "</table>\n",
              "</div><br><label><b>dtype:</b> int64</label>"
            ]
          },
          "metadata": {},
          "execution_count": 10
        }
      ]
    },
    {
      "cell_type": "code",
      "source": [
        "df['Gênero'] = df['Gênero'].fillna(0)\n",
        "df['Anúncio Clicado'] = df['Anúncio Clicado'].fillna(0)"
      ],
      "metadata": {
        "id": "tJ_Jle_jbC0L"
      },
      "execution_count": 11,
      "outputs": []
    },
    {
      "cell_type": "code",
      "source": [
        "df[colunas] = df[colunas].fillna(df[colunas].mean())"
      ],
      "metadata": {
        "id": "nKg4HZz5bsSD"
      },
      "execution_count": 12,
      "outputs": []
    },
    {
      "cell_type": "code",
      "source": [
        "df.isnull().sum()"
      ],
      "metadata": {
        "colab": {
          "base_uri": "https://localhost:8080/",
          "height": 272
        },
        "id": "4f3D1Zs8btiA",
        "outputId": "68ede40b-825d-4f37-b18d-8356e98905bd"
      },
      "execution_count": 13,
      "outputs": [
        {
          "output_type": "execute_result",
          "data": {
            "text/plain": [
              "Idade                  0\n",
              "Renda Anual (em $)     0\n",
              "Gênero                 0\n",
              "Tempo no Site (min)    0\n",
              "Anúncio Clicado        0\n",
              "Compra (0 ou 1)        0\n",
              "dtype: int64"
            ],
            "text/html": [
              "<div>\n",
              "<style scoped>\n",
              "    .dataframe tbody tr th:only-of-type {\n",
              "        vertical-align: middle;\n",
              "    }\n",
              "\n",
              "    .dataframe tbody tr th {\n",
              "        vertical-align: top;\n",
              "    }\n",
              "\n",
              "    .dataframe thead th {\n",
              "        text-align: right;\n",
              "    }\n",
              "</style>\n",
              "<table border=\"1\" class=\"dataframe\">\n",
              "  <thead>\n",
              "    <tr style=\"text-align: right;\">\n",
              "      <th></th>\n",
              "      <th>0</th>\n",
              "    </tr>\n",
              "  </thead>\n",
              "  <tbody>\n",
              "    <tr>\n",
              "      <th>Idade</th>\n",
              "      <td>0</td>\n",
              "    </tr>\n",
              "    <tr>\n",
              "      <th>Renda Anual (em $)</th>\n",
              "      <td>0</td>\n",
              "    </tr>\n",
              "    <tr>\n",
              "      <th>Gênero</th>\n",
              "      <td>0</td>\n",
              "    </tr>\n",
              "    <tr>\n",
              "      <th>Tempo no Site (min)</th>\n",
              "      <td>0</td>\n",
              "    </tr>\n",
              "    <tr>\n",
              "      <th>Anúncio Clicado</th>\n",
              "      <td>0</td>\n",
              "    </tr>\n",
              "    <tr>\n",
              "      <th>Compra (0 ou 1)</th>\n",
              "      <td>0</td>\n",
              "    </tr>\n",
              "  </tbody>\n",
              "</table>\n",
              "</div><br><label><b>dtype:</b> int64</label>"
            ]
          },
          "metadata": {},
          "execution_count": 13
        }
      ]
    },
    {
      "cell_type": "code",
      "source": [
        "X = df.drop(columns=['Compra (0 ou 1)'])\n",
        "y = df['Compra (0 ou 1)']"
      ],
      "metadata": {
        "id": "1vIyIBbtb1Wb"
      },
      "execution_count": 14,
      "outputs": []
    },
    {
      "cell_type": "code",
      "source": [
        "from sklearn.model_selection import train_test_split\n",
        "\n",
        "X_train, X_test, y_train, y_test = train_test_split(X, y, test_size=0.2, random_state=42)\n",
        "\n",
        "print(f\"Tamanho do conjunto de treino: {X_train.shape}\")\n",
        "print(f\"Tamanho do conjunto de teste: {X_test.shape}\")"
      ],
      "metadata": {
        "colab": {
          "base_uri": "https://localhost:8080/"
        },
        "id": "bAHfNpjPb3-C",
        "outputId": "a0862db1-2dfa-4b0b-ddc9-b159ad3fb754"
      },
      "execution_count": 15,
      "outputs": [
        {
          "output_type": "stream",
          "name": "stdout",
          "text": [
            "Tamanho do conjunto de treino: (160, 5)\n",
            "Tamanho do conjunto de teste: (40, 5)\n"
          ]
        }
      ]
    },
    {
      "cell_type": "markdown",
      "source": [
        "**Construção do Modelo de Classificação**\n",
        "\n",
        "○ Treinar um modelo simples de classificação (como Regressão Logística, Árvore de Decisão, ou Random Forest).\n",
        "\n",
        "○ Avaliar o modelo utilizando métricas apropriadas"
      ],
      "metadata": {
        "id": "AjxUrfdNb7FS"
      }
    },
    {
      "cell_type": "code",
      "source": [
        "from sklearn.linear_model import LogisticRegression\n",
        "from sklearn.metrics import accuracy_score, classification_report, confusion_matrix\n",
        "\n",
        "modelo = LogisticRegression(random_state=42)\n",
        "\n",
        "modelo.fit(X_train, y_train)\n",
        "\n",
        "y_pred = modelo.predict(X_test)"
      ],
      "metadata": {
        "id": "GNEgolcFb9Mv"
      },
      "execution_count": 16,
      "outputs": []
    },
    {
      "cell_type": "code",
      "source": [
        "accuracy = accuracy_score(y_test, y_pred)\n",
        "print(f\"Acurácia do modelo: {accuracy:.2f}\")\n",
        "\n",
        "print(\"\\nMatriz de Confusão:\")\n",
        "print(confusion_matrix(y_test, y_pred))\n",
        "\n",
        "print(\"\\nRelatório de Classificação:\")\n",
        "print(classification_report(y_test, y_pred, zero_division=0))"
      ],
      "metadata": {
        "colab": {
          "base_uri": "https://localhost:8080/"
        },
        "id": "9lO4S3GocBfG",
        "outputId": "d2cd3aab-a1aa-48ea-90d7-2b124a4ceac0"
      },
      "execution_count": 30,
      "outputs": [
        {
          "output_type": "stream",
          "name": "stdout",
          "text": [
            "Acurácia do modelo: 0.57\n",
            "\n",
            "Matriz de Confusão:\n",
            "[[13 11]\n",
            " [ 6 10]]\n",
            "\n",
            "Relatório de Classificação:\n",
            "              precision    recall  f1-score   support\n",
            "\n",
            "           0       0.68      0.54      0.60        24\n",
            "           1       0.48      0.62      0.54        16\n",
            "\n",
            "    accuracy                           0.57        40\n",
            "   macro avg       0.58      0.58      0.57        40\n",
            "weighted avg       0.60      0.57      0.58        40\n",
            "\n"
          ]
        }
      ]
    },
    {
      "cell_type": "code",
      "source": [
        "print(\"Distribuição das classes em y_train:\")\n",
        "print(y_train.value_counts(normalize=True))"
      ],
      "metadata": {
        "colab": {
          "base_uri": "https://localhost:8080/"
        },
        "id": "uMu_TqsucpQG",
        "outputId": "405abce5-694e-428c-9f05-efcdd5354b92"
      },
      "execution_count": 18,
      "outputs": [
        {
          "output_type": "stream",
          "name": "stdout",
          "text": [
            "Distribuição das classes em y_train:\n",
            "Compra (0 ou 1)\n",
            "0    0.6875\n",
            "1    0.3125\n",
            "Name: proportion, dtype: float64\n"
          ]
        }
      ]
    },
    {
      "cell_type": "code",
      "source": [
        "from sklearn.linear_model import LogisticRegression\n",
        "from sklearn.metrics import accuracy_score, confusion_matrix, classification_report\n",
        "\n",
        "modelo = LogisticRegression(random_state=42, class_weight='balanced')\n",
        "modelo.fit(X_train, y_train)\n",
        "\n",
        "y_pred = modelo.predict(X_test)\n",
        "\n",
        "print(f\"Acurácia: {accuracy_score(y_test, y_pred):.2f}\")\n",
        "print(\"\\nMatriz de Confusão:\")\n",
        "print(confusion_matrix(y_test, y_pred))\n",
        "print(\"\\nRelatório de Classificação:\")\n",
        "print(classification_report(y_test, y_pred))"
      ],
      "metadata": {
        "colab": {
          "base_uri": "https://localhost:8080/"
        },
        "id": "1Rylcoxdc1F7",
        "outputId": "d6d26d9f-8c71-4158-b20f-2bfa800fe937"
      },
      "execution_count": 27,
      "outputs": [
        {
          "output_type": "stream",
          "name": "stdout",
          "text": [
            "Acurácia: 0.57\n",
            "\n",
            "Matriz de Confusão:\n",
            "[[13 11]\n",
            " [ 6 10]]\n",
            "\n",
            "Relatório de Classificação:\n",
            "              precision    recall  f1-score   support\n",
            "\n",
            "           0       0.68      0.54      0.60        24\n",
            "           1       0.48      0.62      0.54        16\n",
            "\n",
            "    accuracy                           0.57        40\n",
            "   macro avg       0.58      0.58      0.57        40\n",
            "weighted avg       0.60      0.57      0.58        40\n",
            "\n"
          ]
        }
      ]
    },
    {
      "cell_type": "code",
      "source": [
        "from imblearn.over_sampling import SMOTE\n",
        "\n",
        "smote = SMOTE(random_state=42)\n",
        "X_train_balanceado, y_train_balanceado = smote.fit_resample(X_train, y_train)\n",
        "\n",
        "print(\"Aplicação do metódo SMOTE\")\n",
        "print(y_train_balanceado.value_counts())\n",
        "\n",
        "modelo = LogisticRegression(random_state=42)\n",
        "modelo.fit(X_train_balanceado, y_train_balanceado)\n",
        "\n",
        "y_pred = modelo.predict(X_test)\n",
        "\n",
        "print(f\"Acurácia: {accuracy_score(y_test, y_pred):.2f}\")\n",
        "print(\"\\nRelatório de Classificação:\")\n",
        "print(classification_report(y_test, y_pred))"
      ],
      "metadata": {
        "colab": {
          "base_uri": "https://localhost:8080/"
        },
        "id": "zvJCSUOVc3Mi",
        "outputId": "4aad2572-0f25-4383-800c-d73a11de02a1"
      },
      "execution_count": 20,
      "outputs": [
        {
          "output_type": "stream",
          "name": "stdout",
          "text": [
            "Distribuição das classes após SMOTE:\n",
            "Compra (0 ou 1)\n",
            "0    110\n",
            "1    110\n",
            "Name: count, dtype: int64\n",
            "Acurácia: 0.57\n",
            "\n",
            "Matriz de Confusão:\n",
            "[[14 10]\n",
            " [ 7  9]]\n",
            "\n",
            "Relatório de Classificação:\n",
            "              precision    recall  f1-score   support\n",
            "\n",
            "           0       0.67      0.58      0.62        24\n",
            "           1       0.47      0.56      0.51        16\n",
            "\n",
            "    accuracy                           0.57        40\n",
            "   macro avg       0.57      0.57      0.57        40\n",
            "weighted avg       0.59      0.57      0.58        40\n",
            "\n"
          ]
        }
      ]
    },
    {
      "cell_type": "code",
      "source": [
        "import seaborn as sns\n",
        "import matplotlib.pyplot as plt\n",
        "\n",
        "conf_matrix = confusion_matrix(y_test, y_pred)\n",
        "\n",
        "plt.figure(figsize=(6, 4))\n",
        "sns.heatmap(conf_matrix, annot=True, fmt=\"d\", cmap=\"Blues\", xticklabels=[\"Não Comprou\", \"Comprou\"], yticklabels=[\"Não Comprou\", \"Comprou\"])\n",
        "plt.xlabel(\"Previsão\")\n",
        "plt.ylabel(\"Real\")\n",
        "plt.title(\"Matriz de Confusão\")\n",
        "plt.show()"
      ],
      "metadata": {
        "colab": {
          "base_uri": "https://localhost:8080/",
          "height": 410
        },
        "id": "YtYDZSMAc8kG",
        "outputId": "02039915-1f90-44a2-8db2-ff342b630c74"
      },
      "execution_count": 21,
      "outputs": [
        {
          "output_type": "display_data",
          "data": {
            "text/plain": [
              "<Figure size 600x400 with 2 Axes>"
            ],
            "image/png": "[encoded data removed]"
          },
          "metadata": {}
        }
      ]
    },
    {
      "cell_type": "markdown",
      "source": [
        "**Interpretação dos Resultados**\n",
        "\n",
        "○ Identificar quais variáveis mais influenciaram na decisão do modelo.\n",
        "\n",
        "○ Explicar o desempenho do modelo e propor possíveis melhorias."
      ],
      "metadata": {
        "id": "DkfLNURGfpDt"
      }
    },
    {
      "cell_type": "code",
      "source": [
        "feature_importance = pd.DataFrame({\n",
        "    'Variável': X_train.columns,\n",
        "    'Coeficiente': modelo.coef_[0]\n",
        "})\n",
        "\n",
        "feature_importance = feature_importance.sort_values(by='Coeficiente', ascending=False)\n",
        "\n",
        "print(\"Importância das variáveis:\")\n",
        "print(feature_importance)\n",
        "\n",
        "import matplotlib.pyplot as plt\n",
        "\n",
        "plt.figure(figsize=(8, 5))\n",
        "plt.barh(feature_importance['Variável'], feature_importance['Coeficiente'], color='skyblue')\n",
        "plt.xlabel('Coeficiente')\n",
        "plt.ylabel('Variável')\n",
        "plt.title('Importância das Variáveis no Modelo')\n",
        "plt.show()"
      ],
      "metadata": {
        "colab": {
          "base_uri": "https://localhost:8080/",
          "height": 610
        },
        "id": "LTfniKy1gTyr",
        "outputId": "7565fde1-6590-4403-cd9e-4f0aebbfd59c"
      },
      "execution_count": 22,
      "outputs": [
        {
          "output_type": "stream",
          "name": "stdout",
          "text": [
            "Importância das variáveis:\n",
            "              Variável  Coeficiente\n",
            "0                Idade     0.289416\n",
            "3  Tempo no Site (min)     0.216850\n",
            "2               Gênero     0.141893\n",
            "1   Renda Anual (em $)    -0.001049\n",
            "4      Anúncio Clicado    -0.040322\n"
          ]
        },
        {
          "output_type": "display_data",
          "data": {
            "text/plain": [
              "<Figure size 800x500 with 1 Axes>"
            ],
            "image/png": "[encoded data removed]"
          },
          "metadata": {}
        }
      ]
    },
    {
      "cell_type": "code",
      "source": [
        "from sklearn.metrics import classification_report\n",
        "\n",
        "print(\"\\nRelatório de Classificação:\")\n",
        "print(classification_report(y_test, y_pred))"
      ],
      "metadata": {
        "colab": {
          "base_uri": "https://localhost:8080/"
        },
        "id": "mWsmXD2Sgrmn",
        "outputId": "b2dfa5fb-07a8-4e5c-c1eb-74e7c55eaefa"
      },
      "execution_count": 23,
      "outputs": [
        {
          "output_type": "stream",
          "name": "stdout",
          "text": [
            "\n",
            "Relatório de Classificação:\n",
            "              precision    recall  f1-score   support\n",
            "\n",
            "           0       0.67      0.58      0.62        24\n",
            "           1       0.47      0.56      0.51        16\n",
            "\n",
            "    accuracy                           0.57        40\n",
            "   macro avg       0.57      0.57      0.57        40\n",
            "weighted avg       0.59      0.57      0.58        40\n",
            "\n"
          ]
        }
      ]
    },
    {
      "cell_type": "code",
      "source": [
        "from sklearn.model_selection import cross_val_score\n",
        "from sklearn.linear_model import LogisticRegression\n",
        "\n",
        "modelo = LogisticRegression(random_state=42, class_weight='balanced')\n",
        "\n",
        "cv_scores = cross_val_score(modelo, X, y, cv=5, scoring='accuracy')\n",
        "\n",
        "print(\"Acurácia por Fold:\", cv_scores)\n",
        "print(\"Acurácia Média:\", cv_scores.mean())"
      ],
      "metadata": {
        "colab": {
          "base_uri": "https://localhost:8080/"
        },
        "id": "MwVfqgRfuCLb",
        "outputId": "d7072cc7-478b-4826-95f9-e9ce12650797"
      },
      "execution_count": 28,
      "outputs": [
        {
          "output_type": "stream",
          "name": "stdout",
          "text": [
            "Acurácia por Fold: [0.525 0.5   0.675 0.6   0.5  ]\n",
            "Acurácia Média: 0.5599999999999999\n"
          ]
        }
      ]
    },
    {
      "cell_type": "markdown",
      "source": [
        "Melhoria dos Dados:\n",
        "\n",
        "Coletar mais dados para reduzir o desbalanceamento entre as classes.\n",
        "Adicionar novas variáveis que possam influenciar a decisão (ex: localização ou tipo de imóvel).\n",
        "\n",
        "Ajuste do Modelo:\n",
        "\n",
        "Testar modelos mais complexos, como Gradient Boosting ou Random Forest, que lidam melhor com interações entre variáveis, já que a validação cruzada mostrou que o desempenho da Regressão Logística não é ideal.\n",
        "\n",
        "Melhoria no Pré-processamento:\n",
        "\n",
        "Experimentar técnicas diferentes de tratamento de variáveis categóricas, como embeddings (se o dataset for maior).\n",
        "\n",
        "\n",
        "Usar métodos de seleção de variáveis para remover colunas que pouco influenciam.\n",
        "\n",
        "Ajuste de Hiperparâmetros:\n",
        "\n",
        "Para modelo de Regressão Logística que foi utilizado, ajustar o parâmetro de regularização (C) pode melhorar o desempenho.\n"
      ],
      "metadata": {
        "id": "Wxhem0Hwgv2v"
      }
    }
  ]
}